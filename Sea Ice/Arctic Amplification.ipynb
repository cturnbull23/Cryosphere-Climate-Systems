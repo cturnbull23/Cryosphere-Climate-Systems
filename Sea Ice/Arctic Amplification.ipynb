{
 "cells": [
  {
   "cell_type": "code",
   "execution_count": 1,
   "id": "252dff76",
   "metadata": {},
   "outputs": [
    {
     "data": {
      "text/plain": [
       "'\\nScripts plots temperatures from Berkeley Earth contrasting the Arctic and \\nglobal temperature anomalies - \"Arctic Amplification\"\\n \\nNotes\\n-----\\n    Source : https://www.esrl.noaa.gov/psd/cgi-bin/data/testdap/timeseries.pl\\n    Author : Zachary Labe\\n    Date   : 2 July 2018\\n'"
      ]
     },
     "execution_count": 1,
     "metadata": {},
     "output_type": "execute_result"
    }
   ],
   "source": [
    "\"\"\"\n",
    "Scripts plots temperatures from Berkeley Earth contrasting the Arctic and \n",
    "global temperature anomalies - \"Arctic Amplification\"\n",
    " \n",
    "Notes\n",
    "-----\n",
    "    Source : https://www.esrl.noaa.gov/psd/cgi-bin/data/testdap/timeseries.pl\n",
    "    Author : Zachary Labe\n",
    "    Date   : 2 July 2018\n",
    "\"\"\"\n",
    "\n",
    "# Modified by Christopher Turnbull\n",
    "# Last Modified: February 15, 2022"
   ]
  },
  {
   "cell_type": "code",
   "execution_count": 2,
   "id": "79c08e7c",
   "metadata": {},
   "outputs": [],
   "source": [
    "# Import Modules\n",
    "import numpy as np\n",
    "import matplotlib.pyplot as plt\n",
    "import matplotlib.colors as c\n",
    "import datetime\n",
    "import cmocean\n",
    "from mpl_toolkits.basemap import Basemap"
   ]
  },
  {
   "cell_type": "code",
   "execution_count": 11,
   "id": "b3ffda84",
   "metadata": {},
   "outputs": [],
   "source": [
    "### Define directories\n",
    "directorydata = './data/'\n",
    "directoryfigure = './figures/'"
   ]
  },
  {
   "cell_type": "code",
   "execution_count": 12,
   "id": "d21cd348",
   "metadata": {},
   "outputs": [
    {
     "name": "stdout",
     "output_type": "stream",
     "text": [
      "\n",
      "----Arctic Amplification using BEST - 2/15/2022----\n"
     ]
    }
   ],
   "source": [
    "### Define time           \n",
    "now = datetime.datetime.now()\n",
    "currentmn = str(now.month)\n",
    "currentdy = str(now.day)\n",
    "currentyr = str(now.year)\n",
    "currenttime = currentmn + '_' + currentdy + '_' + currentyr\n",
    "titletime = currentmn + '/' + currentdy + '/' + currentyr\n",
    "print('\\n' '----Arctic Amplification using BEST - %s----' % titletime) "
   ]
  },
  {
   "cell_type": "code",
   "execution_count": 21,
   "id": "63a82ffc",
   "metadata": {},
   "outputs": [],
   "source": [
    "## Alott time series\n",
    "yearmin = 1900\n",
    "yearmax = 2017\n",
    "years = np.arange(yearmin,yearmax+1,1)\n",
    "months = [r'Jan',r'Feb',r'Mar',r'Apr',r'May',r'Jun',r'Jul',r'Aug',\n",
    "          r'Sep',r'Oct',r'Nov',r'Dec']\n",
    "datasets = ['Arctic','Global']\n",
    "datasetsq = ['Arctic [+67$^\\circ$N]','Global']"
   ]
  },
  {
   "cell_type": "code",
   "execution_count": 22,
   "id": "fb681473",
   "metadata": {},
   "outputs": [
    {
     "ename": "ValueError",
     "evalue": "could not broadcast input array from shape (41,) into shape (118,)",
     "output_type": "error",
     "traceback": [
      "\u001b[0;31m---------------------------------------------------------------------------\u001b[0m",
      "\u001b[0;31mValueError\u001b[0m                                Traceback (most recent call last)",
      "\u001b[0;32m/var/folders/d6/ytkvj3g96n33b3hfk945b_nc0000gr/T/ipykernel_83985/1914626144.py\u001b[0m in \u001b[0;36m<module>\u001b[0;34m\u001b[0m\n\u001b[1;32m      2\u001b[0m \u001b[0mdatat\u001b[0m \u001b[0;34m=\u001b[0m \u001b[0mnp\u001b[0m\u001b[0;34m.\u001b[0m\u001b[0mempty\u001b[0m\u001b[0;34m(\u001b[0m\u001b[0;34m(\u001b[0m\u001b[0mlen\u001b[0m\u001b[0;34m(\u001b[0m\u001b[0mdatasets\u001b[0m\u001b[0;34m)\u001b[0m\u001b[0;34m,\u001b[0m\u001b[0mlen\u001b[0m\u001b[0;34m(\u001b[0m\u001b[0myears\u001b[0m\u001b[0;34m)\u001b[0m\u001b[0;34m)\u001b[0m\u001b[0;34m)\u001b[0m\u001b[0;34m\u001b[0m\u001b[0;34m\u001b[0m\u001b[0m\n\u001b[1;32m      3\u001b[0m \u001b[0;32mfor\u001b[0m \u001b[0mi\u001b[0m \u001b[0;32min\u001b[0m \u001b[0mrange\u001b[0m\u001b[0;34m(\u001b[0m\u001b[0mlen\u001b[0m\u001b[0;34m(\u001b[0m\u001b[0mdatasets\u001b[0m\u001b[0;34m)\u001b[0m\u001b[0;34m)\u001b[0m\u001b[0;34m:\u001b[0m\u001b[0;34m\u001b[0m\u001b[0;34m\u001b[0m\u001b[0m\n\u001b[0;32m----> 4\u001b[0;31m     datat[i] = np.genfromtxt(directorydata + 'BEST_%s.txt' % (datasets[i]),\n\u001b[0m\u001b[1;32m      5\u001b[0m                          delimiter=',',skip_header=1,unpack=True,usecols=[1])\n",
      "\u001b[0;31mValueError\u001b[0m: could not broadcast input array from shape (41,) into shape (118,)"
     ]
    }
   ],
   "source": [
    "### Read in data\n",
    "datat = np.empty((len(datasets),len(years)))\n",
    "for i in range(len(datasets)):\n",
    "    datat[i] = np.genfromtxt(directorydata + 'BEST_%s.txt' % (datasets[i]),\n",
    "                         delimiter=',',skip_header=1,unpack=True,usecols=[1])"
   ]
  },
  {
   "cell_type": "code",
   "execution_count": null,
   "id": "ba7148db",
   "metadata": {},
   "outputs": [],
   "source": []
  }
 ],
 "metadata": {
  "kernelspec": {
   "display_name": "Python 3 (ipykernel)",
   "language": "python",
   "name": "python3"
  },
  "language_info": {
   "codemirror_mode": {
    "name": "ipython",
    "version": 3
   },
   "file_extension": ".py",
   "mimetype": "text/x-python",
   "name": "python",
   "nbconvert_exporter": "python",
   "pygments_lexer": "ipython3",
   "version": "3.8.12"
  }
 },
 "nbformat": 4,
 "nbformat_minor": 5
}
