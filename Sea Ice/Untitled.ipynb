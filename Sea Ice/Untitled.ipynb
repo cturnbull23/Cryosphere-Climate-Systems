{
 "cells": [
  {
   "cell_type": "code",
   "execution_count": null,
   "id": "83bc0407",
   "metadata": {},
   "outputs": [],
   "source": [
    "import netCDF4 as nc"
   ]
  },
  {
   "cell_type": "code",
   "execution_count": null,
   "id": "b1358798",
   "metadata": {},
   "outputs": [],
   "source": [
    "fn = 'ims2022038_1km_v1.3.nc'\n",
    "ds = nc.Dataset(fn)"
   ]
  },
  {
   "cell_type": "code",
   "execution_count": null,
   "id": "9e633b5f",
   "metadata": {},
   "outputs": [],
   "source": [
    "import matplotlib.pyplot as plt\n",
    "import cartopy.crs as ccrs\n",
    "import cartopy\n",
    "import cartopy.feature as cfeature\n",
    "\n",
    "fig = plt.figure(figsize=(10, 10))\n",
    "ax = fig.add_subplot(111, projection=ccrs.NorthPolarStereo(central_longitude=-47))     \n",
    "\n",
    "ax.set_extent([-180, 180, 60, 90], crs=ccrs.PlateCarree())\n",
    "\n",
    "plt.contourf(x,y,Data)\n",
    "\n",
    "resol = '50m'  # use data at this scale\n",
    "land = cartopy.feature.NaturalEarthFeature('physical', 'land', \\\n",
    "    scale=resol, edgecolor='k', facecolor=cfeature.COLORS['land'])\n",
    "ocean = cartopy.feature.NaturalEarthFeature('physical', 'ocean', \\\n",
    "    scale=resol, edgecolor='none', facecolor=cfeature.COLORS['water'])\n",
    "\n",
    "# plot sequence is important\n",
    "ax.add_feature(ocean, linewidth=0.2 )\n",
    "ax.add_feature(land, facecolor='green')\n",
    "\n",
    "ax.set_title('central_longitude on -47 $^\\circ$W')\n",
    "\n",
    "# for cartopy version 0.18 only\n",
    "ax.gridlines(draw_labels=True, linewidth=0.5, linestyle='--', color='black')\n",
    "\n",
    "plt.show()"
   ]
  },
  {
   "cell_type": "code",
   "execution_count": null,
   "id": "d9d6f4cf",
   "metadata": {},
   "outputs": [],
   "source": [
    "Data=ds.variables['IMS_Surface_Values'][0]\n",
    "x=ds.variables['x'][:]\n",
    "y=ds.variables['y'][:]"
   ]
  },
  {
   "cell_type": "code",
   "execution_count": null,
   "id": "e1cd3bbb",
   "metadata": {},
   "outputs": [],
   "source": []
  }
 ],
 "metadata": {
  "kernelspec": {
   "display_name": "Python 3 (ipykernel)",
   "language": "python",
   "name": "python3"
  },
  "language_info": {
   "codemirror_mode": {
    "name": "ipython",
    "version": 3
   },
   "file_extension": ".py",
   "mimetype": "text/x-python",
   "name": "python",
   "nbconvert_exporter": "python",
   "pygments_lexer": "ipython3",
   "version": "3.8.12"
  }
 },
 "nbformat": 4,
 "nbformat_minor": 5
}
